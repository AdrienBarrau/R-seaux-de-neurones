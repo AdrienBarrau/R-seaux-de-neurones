{
  "nbformat": 4,
  "nbformat_minor": 0,
  "metadata": {
    "colab": {
      "provenance": []
    },
    "kernelspec": {
      "name": "python3",
      "display_name": "Python 3"
    },
    "language_info": {
      "name": "python"
    }
  },
  "cells": [
    {
      "cell_type": "code",
      "execution_count": 1,
      "metadata": {
        "id": "VBKR4MWmFPNh"
      },
      "outputs": [],
      "source": [
        "%matplotlib inline\n",
        "import matplotlib.pyplot as plt\n",
        "import numpy as np\n",
        "\n",
        "import torch\n",
        "import torch.nn as nn\n",
        "import torch.nn.functional as F\n",
        "import torch.optim as optim\n",
        "import torchvision.datasets as datasets\n",
        "import torchvision.transforms as transforms"
      ]
    },
    {
      "cell_type": "code",
      "source": [
        "\n",
        "input_transform=transforms.Compose([transforms.ToTensor()])\n",
        "\n",
        "mnist_trainset = datasets.MNIST(root='./data',train=True,download=True,transform=input_transform)\n",
        "print(mnist_trainset)\n",
        "\n",
        "\n",
        "mnist_testset = datasets.MNIST(root='./data',train=False,download=True,transform=input_transform)\n",
        "\n",
        "\n",
        "max_mnist_size = 2000\n",
        "mnist_trainset_reduced = torch.utils.data.random_split(mnist_trainset, [max_mnist_size, len(mnist_trainset)-max_mnist_size])[0]"
      ],
      "metadata": {
        "colab": {
          "base_uri": "https://localhost:8080/"
        },
        "id": "zXiMerhpFecH",
        "outputId": "77d0cd59-e3e9-40e9-bab4-4629b41faa97"
      },
      "execution_count": 2,
      "outputs": [
        {
          "output_type": "stream",
          "name": "stderr",
          "text": [
            "100%|██████████| 9.91M/9.91M [00:00<00:00, 22.3MB/s]\n",
            "100%|██████████| 28.9k/28.9k [00:00<00:00, 580kB/s]\n",
            "100%|██████████| 1.65M/1.65M [00:00<00:00, 5.66MB/s]\n",
            "100%|██████████| 4.54k/4.54k [00:00<00:00, 8.07MB/s]"
          ]
        },
        {
          "output_type": "stream",
          "name": "stdout",
          "text": [
            "Dataset MNIST\n",
            "    Number of datapoints: 60000\n",
            "    Root location: ./data\n",
            "    Split: Train\n",
            "    StandardTransform\n",
            "Transform: Compose(\n",
            "               ToTensor()\n",
            "           )\n"
          ]
        },
        {
          "output_type": "stream",
          "name": "stderr",
          "text": [
            "\n"
          ]
        }
      ]
    },
    {
      "cell_type": "code",
      "source": [
        "\n",
        "X_train = torch.unsqueeze(mnist_trainset.data,axis=1)[mnist_trainset_reduced.indices]/255.0\n",
        "Y_train = mnist_trainset.targets[mnist_trainset_reduced.indices]\n",
        "X_test = torch.unsqueeze(mnist_testset.data,axis=1)/255.0\n",
        "Y_test = mnist_testset.targets"
      ],
      "metadata": {
        "id": "6FHgc0jkFwzm"
      },
      "execution_count": 3,
      "outputs": []
    },
    {
      "cell_type": "code",
      "source": [
        "\n",
        "\n",
        "\n",
        "mnist_list = [ '0', '1','2','3','4','5','6','7','8','9']"
      ],
      "metadata": {
        "id": "1TXjIrImF2TT"
      },
      "execution_count": 4,
      "outputs": []
    },
    {
      "cell_type": "code",
      "source": [
        "plt.figure(figsize=(10, 6))\n",
        "for idx in range(0,10):\n",
        "    plt.subplot(2, 5, idx+1)\n",
        "    rand_ind = np.random.randint(0,mnist_trainset.data.shape[0])\n",
        "    plt.imshow(mnist_trainset.data[rand_ind,:,:],cmap='gray')\n",
        "    plt.title(mnist_list[int(mnist_trainset.targets[rand_ind])])"
      ],
      "metadata": {
        "colab": {
          "base_uri": "https://localhost:8080/",
          "height": 468
        },
        "id": "M-LvfUqMF2aI",
        "outputId": "194d788e-9287-47ce-acee-6aa9906c0c73"
      },
      "execution_count": 5,
      "outputs": [
        {
          "output_type": "display_data",
          "data": {
            "text/plain": [
              "<Figure size 1000x600 with 10 Axes>"
            ],
            "image/png": "[encoded data removed]"
          },
          "metadata": {}
        }
      ]
    },
    {
      "cell_type": "code",
      "source": [
        "learning_rate = 0.01\n",
        "n_epochs = 10\n",
        "batch_size = 64\n",
        "nb_classes = int(mnist_trainset.targets.max()+1)\n",
        "\n",
        "nb_filters = 32\n",
        "kernel_size = (3, 3)\n",
        "pool_size = (2, 2)\n",
        "\n",
        "\n",
        "n_h_0 = 1\n",
        "n_h_1 = nb_filters\n",
        "n_h_2 = nb_filters"
      ],
      "metadata": {
        "id": "M3yQ9IFKF2cN"
      },
      "execution_count": 7,
      "outputs": []
    },
    {
      "cell_type": "code",
      "source": [
        "\n",
        "mnist_model = torch.nn.Sequential(torch.nn.Conv2d(n_h_0,n_h_1,kernel_size,stride=1,bias=True,padding='same'),torch.nn.ReLU(),torch.nn.Conv2d(n_h_1,n_h_2,kernel_size,stride=1,bias=True,padding_mode='zeros'),torch.nn.ReLU(),torch.nn.MaxPool2d(2,2),torch.nn.Flatten(),torch.nn.Linear(5408,10))\n",
        "\n",
        "mnist_train_loader = torch.utils.data.DataLoader(mnist_trainset_reduced, batch_size=batch_size, shuffle=True)\n",
        "\n",
        "criterion =torch.nn.CrossEntropyLoss(reduction='sum')\n",
        "optimizer =torch.optim.Adam(mnist_model.parameters(), lr=learning_rate)\n"
      ],
      "metadata": {
        "id": "Jgt7MMV8F2eb"
      },
      "execution_count": 8,
      "outputs": []
    },
    {
      "cell_type": "code",
      "source": [
        "def vector_to_class(x):\n",
        "\n",
        "  softmax = torch.nn.Softmax(dim=-1)\n",
        "  probs = softmax(x)\n",
        "\n",
        "\n",
        "  y = torch.argmax(probs, dim=-1)\n",
        "\n",
        "\n",
        "  return y\n",
        "\n",
        "\n",
        "def cnn_accuracy(predict,labels):\n",
        "\n",
        "  correct = (predict == labels).sum().item()\n",
        "  total = len(labels)\n",
        "  accuracy = correct / total\n",
        "\n",
        "  return accuracy"
      ],
      "metadata": {
        "id": "24v-bnQlF2gX"
      },
      "execution_count": 9,
      "outputs": []
    },
    {
      "cell_type": "code",
      "source": [
        "train_losses=[]\n",
        "valid_losses=[]\n",
        "\n",
        "for epoch in range(0,n_epochs):\n",
        "  train_loss=0.0\n",
        "  all_labels = []\n",
        "  all_predicted = []\n",
        "\n",
        "  for batch_idx, (imgs, labels) in enumerate(mnist_train_loader):\n",
        "\n",
        "    predict =vector_to_class(mnist_model(imgs))\n",
        "\n",
        "    loss = criterion(mnist_model(imgs),labels)\n",
        "\n",
        "    optimizer.zero_grad()\n",
        "\n",
        "    loss.backward()\n",
        "\n",
        "    optimizer.step()\n",
        "\n",
        "    train_loss += loss.item()\n",
        "\n",
        "    all_labels.extend(labels.tolist())\n",
        "\n",
        "    all_predicted.extend(predict.tolist())\n",
        "\n",
        "  print('Epoch:{} Train Loss:{:.4f}'.format(epoch,train_loss/len(mnist_train_loader.dataset)))\n",
        "\n",
        "\n",
        "  print('Accuracy:{:.4f}'.format(cnn_accuracy(np.array(all_predicted),np.array(all_labels))))"
      ],
      "metadata": {
        "colab": {
          "base_uri": "https://localhost:8080/"
        },
        "id": "et-UMmGeF2iw",
        "outputId": "e5f27db5-de12-4b28-fa7c-330b2e470fa4"
      },
      "execution_count": 10,
      "outputs": [
        {
          "output_type": "stream",
          "name": "stdout",
          "text": [
            "Epoch:0 Train Loss:1.2805\n",
            "Accuracy:0.6285\n",
            "Epoch:1 Train Loss:0.3493\n",
            "Accuracy:0.9000\n",
            "Epoch:2 Train Loss:0.2133\n",
            "Accuracy:0.9395\n",
            "Epoch:3 Train Loss:0.1474\n",
            "Accuracy:0.9585\n",
            "Epoch:4 Train Loss:0.0934\n",
            "Accuracy:0.9660\n",
            "Epoch:5 Train Loss:0.0741\n",
            "Accuracy:0.9750\n",
            "Epoch:6 Train Loss:0.0650\n",
            "Accuracy:0.9785\n",
            "Epoch:7 Train Loss:0.0402\n",
            "Accuracy:0.9870\n",
            "Epoch:8 Train Loss:0.0395\n",
            "Accuracy:0.9865\n",
            "Epoch:9 Train Loss:0.0188\n",
            "Accuracy:0.9945\n"
          ]
        }
      ]
    },
    {
      "cell_type": "code",
      "source": [
        "predict_train = vector_to_class(mnist_model(X_train))\n",
        "predict_test =vector_to_class(mnist_model(X_test))\n",
        "\n",
        "train_accuracy = cnn_accuracy(predict_train, Y_train)\n",
        "test_accuracy = cnn_accuracy(predict_test, Y_test)\n",
        "\n",
        "\n",
        "\n",
        "print(\"Train Accuracy:\", train_accuracy)\n",
        "print(\"Test Accuracy:\", test_accuracy)"
      ],
      "metadata": {
        "colab": {
          "base_uri": "https://localhost:8080/"
        },
        "id": "uLbQchvMF2mO",
        "outputId": "0048ced2-39fd-4380-f74e-63bd67cd2375"
      },
      "execution_count": 13,
      "outputs": [
        {
          "output_type": "stream",
          "name": "stdout",
          "text": [
            "Train Accuracy: 0.9965\n",
            "Test Accuracy: 0.9299\n"
          ]
        }
      ]
    },
    {
      "cell_type": "code",
      "source": [
        "plt.figure(figsize=(10, 6))\n",
        "for idx in range(0,10):\n",
        "    plt.subplot(2, 5, idx+1)\n",
        "    rand_ind = np.random.randint(0,X_test.shape[0])\n",
        "    test_img = torch.unsqueeze(X_test[rand_ind,:,:,:],axis=1)\n",
        "    predicted_class = vector_to_class(mnist_model(test_img))\n",
        "    plt.imshow(test_img.squeeze(),cmap='gray')\n",
        "    plt.title(mnist_list[int(predicted_class)])"
      ],
      "metadata": {
        "colab": {
          "base_uri": "https://localhost:8080/",
          "height": 468
        },
        "id": "IouGeR-qq13P",
        "outputId": "ae65283e-b932-46fb-826e-f06d35a366f8"
      },
      "execution_count": 12,
      "outputs": [
        {
          "output_type": "display_data",
          "data": {
            "text/plain": [
              "<Figure size 1000x600 with 10 Axes>"
            ],
            "image/png": "[encoded data removed]"
          },
          "metadata": {}
        }
      ]
    },
    {
      "cell_type": "code",
      "source": [],
      "metadata": {
        "id": "_H8q0m-Lq2kE"
      },
      "execution_count": null,
      "outputs": []
    }
  ]
}